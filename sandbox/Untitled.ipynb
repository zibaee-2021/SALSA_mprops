{
 "cells": [
  {
   "cell_type": "code",
   "execution_count": 74,
   "id": "e30d7768",
   "metadata": {},
   "outputs": [
    {
     "data": {
      "text/plain": [
       "array([[0., 0., 0., 0.],\n",
       "       [0., 0., 0., 0.]])"
      ]
     },
     "execution_count": 74,
     "metadata": {},
     "output_type": "execute_result"
    }
   ],
   "source": [
    "import numpy as np\n",
    "bla = np.zeros((2,4))\n",
    "bla"
   ]
  },
  {
   "cell_type": "code",
   "execution_count": 75,
   "id": "7b6f8f64",
   "metadata": {},
   "outputs": [
    {
     "data": {
      "text/plain": [
       "array([[0., 2., 2., 0.],\n",
       "       [3., 3., 0., 0.]], dtype=float32)"
      ]
     },
     "execution_count": 75,
     "metadata": {},
     "output_type": "execute_result"
    }
   ],
   "source": [
    "bla2 = np.array([[0, 2, 2, 0], [3, 3, 0, 0]]).astype(np.float32)\n",
    "bla2"
   ]
  },
  {
   "cell_type": "code",
   "execution_count": 76,
   "id": "84664ea5",
   "metadata": {},
   "outputs": [
    {
     "data": {
      "text/plain": [
       "array([[0., 0., 0., 0.],\n",
       "       [0., 0., 0., 0.],\n",
       "       [0., 2., 2., 0.],\n",
       "       [3., 3., 0., 0.],\n",
       "       [0., 0., 0., 0.]])"
      ]
     },
     "execution_count": 76,
     "metadata": {},
     "output_type": "execute_result"
    }
   ],
   "source": [
    "bla = np.concatenate((bla, bla2), axis=0)\n",
    "bla = np.concatenate((bla, np.zeros((1,4))), axis=0)\n",
    "bla"
   ]
  },
  {
   "cell_type": "code",
   "execution_count": 80,
   "id": "c0636fdc",
   "metadata": {},
   "outputs": [
    {
     "name": "stdout",
     "output_type": "stream",
     "text": [
      "(5, 4)\n"
     ]
    },
    {
     "data": {
      "text/plain": [
       "array([[0., 0., 0., 0.],\n",
       "       [0., 0., 0., 0.],\n",
       "       [0., 0., 2., 2.],\n",
       "       [0., 0., 3., 3.],\n",
       "       [0., 0., 0., 0.]])"
      ]
     },
     "execution_count": 80,
     "metadata": {},
     "output_type": "execute_result"
    }
   ],
   "source": [
    "# blu = bla[np.sort(bla, axis=0, kind=None, order=None)]\n",
    "blu = np.sort(bla, axis=1)\n",
    "print(blu.shape)\n",
    "blu"
   ]
  },
  {
   "cell_type": "code",
   "execution_count": 83,
   "id": "ace18a66",
   "metadata": {},
   "outputs": [
    {
     "name": "stdout",
     "output_type": "stream",
     "text": [
      "(5,)\n"
     ]
    },
    {
     "data": {
      "text/plain": [
       "array([0, 1, 4, 2, 3])"
      ]
     },
     "execution_count": 83,
     "metadata": {},
     "output_type": "execute_result"
    }
   ],
   "source": [
    "bli = np.argsort(blu[:,3])\n",
    "print(bli.shape)\n",
    "bli\n",
    "# bli[:,0]"
   ]
  },
  {
   "cell_type": "code",
   "execution_count": 85,
   "id": "b93ad233",
   "metadata": {},
   "outputs": [
    {
     "data": {
      "text/plain": [
       "array([3, 2, 4, 1, 0])"
      ]
     },
     "execution_count": 85,
     "metadata": {},
     "output_type": "execute_result"
    }
   ],
   "source": [
    "ble = np.flip(bli)\n",
    "ble"
   ]
  },
  {
   "cell_type": "code",
   "execution_count": 89,
   "id": "e24039f4",
   "metadata": {},
   "outputs": [
    {
     "data": {
      "text/plain": [
       "array([[3., 3., 0., 0.],\n",
       "       [0., 2., 2., 0.],\n",
       "       [0., 0., 0., 0.],\n",
       "       [0., 0., 0., 0.],\n",
       "       [0., 0., 0., 0.]])"
      ]
     },
     "execution_count": 89,
     "metadata": {},
     "output_type": "execute_result"
    }
   ],
   "source": [
    "blo = bla[ble]\n",
    "blo"
   ]
  },
  {
   "cell_type": "code",
   "execution_count": 90,
   "id": "7ca951c6",
   "metadata": {},
   "outputs": [
    {
     "data": {
      "text/plain": [
       "array([[0., 0., 0., 0.],\n",
       "       [0., 0., 0., 0.],\n",
       "       [0., 2., 2., 0.],\n",
       "       [3., 3., 0., 0.],\n",
       "       [0., 0., 0., 0.]])"
      ]
     },
     "execution_count": 90,
     "metadata": {},
     "output_type": "execute_result"
    }
   ],
   "source": [
    "bla = np.zeros((2,4))\n",
    "bla2 = np.array([[0, 2, 2, 0], [3, 3, 0, 0]]).astype(np.float32)\n",
    "bla = np.concatenate((bla, bla2), axis=0)\n",
    "bla = np.concatenate((bla, np.zeros((1,4))), axis=0)\n",
    "bla"
   ]
  },
  {
   "cell_type": "code",
   "execution_count": 92,
   "id": "d8a0db82",
   "metadata": {},
   "outputs": [
    {
     "data": {
      "text/plain": [
       "array([[3., 3., 0., 0.],\n",
       "       [0., 2., 2., 0.],\n",
       "       [0., 0., 0., 0.],\n",
       "       [0., 0., 0., 0.],\n",
       "       [0., 0., 0., 0.]])"
      ]
     },
     "execution_count": 92,
     "metadata": {},
     "output_type": "execute_result"
    }
   ],
   "source": [
    "blu = np.sort(bla, axis=1)\n",
    "bli = np.argsort(blu[:,-1])\n",
    "ble = np.flip(bli)\n",
    "blo = bla[ble]\n",
    "blo"
   ]
  },
  {
   "cell_type": "code",
   "execution_count": null,
   "id": "65c88ebc",
   "metadata": {},
   "outputs": [],
   "source": []
  }
 ],
 "metadata": {
  "kernelspec": {
   "display_name": "venv_spk_pd_np",
   "language": "python",
   "name": "venv_spk_pd_np"
  },
  "language_info": {
   "codemirror_mode": {
    "name": "ipython",
    "version": 3
   },
   "file_extension": ".py",
   "mimetype": "text/x-python",
   "name": "python",
   "nbconvert_exporter": "python",
   "pygments_lexer": "ipython3",
   "version": "3.8.7"
  }
 },
 "nbformat": 4,
 "nbformat_minor": 5
}
