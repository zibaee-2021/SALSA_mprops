{
 "cells": [
  {
   "cell_type": "code",
   "execution_count": 1,
   "id": "d6f8b16d",
   "metadata": {},
   "outputs": [],
   "source": [
    "import pandas as pd\n",
    "import os\n",
    "import sys\n",
    "module_path = os.path.abspath(os.path.join('..'))\n",
    "if module_path not in sys.path:\n",
    "    sys.path.append(module_path)\n",
    "from data.protein_sequences import read_seqs"
   ]
  },
  {
   "cell_type": "code",
   "execution_count": 2,
   "id": "269b812f",
   "metadata": {},
   "outputs": [
    {
     "data": {
      "text/html": [
       "<div>\n",
       "<style scoped>\n",
       "    .dataframe tbody tr th:only-of-type {\n",
       "        vertical-align: middle;\n",
       "    }\n",
       "\n",
       "    .dataframe tbody tr th {\n",
       "        vertical-align: top;\n",
       "    }\n",
       "\n",
       "    .dataframe thead th {\n",
       "        text-align: right;\n",
       "    }\n",
       "</style>\n",
       "<table border=\"1\" class=\"dataframe\">\n",
       "  <thead>\n",
       "    <tr style=\"text-align: right;\">\n",
       "      <th></th>\n",
       "      <th>AC</th>\n",
       "      <th>fragment</th>\n",
       "      <th>name</th>\n",
       "      <th>sequence</th>\n",
       "    </tr>\n",
       "  </thead>\n",
       "  <tbody>\n",
       "    <tr>\n",
       "      <th>0</th>\n",
       "      <td>P37840</td>\n",
       "      <td>NaN</td>\n",
       "      <td>SYUA_HUMAN</td>\n",
       "      <td>MDVFMKGLSKAKEGVVAAAEKTKQGVAEAAGKTKEGVLYVGSKTKE...</td>\n",
       "    </tr>\n",
       "    <tr>\n",
       "      <th>1</th>\n",
       "      <td>Q16143</td>\n",
       "      <td>NaN</td>\n",
       "      <td>SYUB_HUMAN</td>\n",
       "      <td>MDVFMKGLSMAKEGVVAAAEKTKQGVTEAAEKTKEGVLYVGSKTRE...</td>\n",
       "    </tr>\n",
       "    <tr>\n",
       "      <th>2</th>\n",
       "      <td>O76070</td>\n",
       "      <td>NaN</td>\n",
       "      <td>SYUG_HUMAN</td>\n",
       "      <td>MDVFKKGFSIAKEGVVGAVEKTKQGVTEAAEKTKEGVMYVGAKTKE...</td>\n",
       "    </tr>\n",
       "    <tr>\n",
       "      <th>3</th>\n",
       "      <td>P10636-?</td>\n",
       "      <td>NaN</td>\n",
       "      <td>TAU_HUMAN 0N3R</td>\n",
       "      <td>NaN</td>\n",
       "    </tr>\n",
       "    <tr>\n",
       "      <th>4</th>\n",
       "      <td>P10636-?</td>\n",
       "      <td>NaN</td>\n",
       "      <td>TAU_HUMAN 1N3R</td>\n",
       "      <td>NaN</td>\n",
       "    </tr>\n",
       "    <tr>\n",
       "      <th>5</th>\n",
       "      <td>P10636-?</td>\n",
       "      <td>NaN</td>\n",
       "      <td>TAU_HUMAN 2N3R</td>\n",
       "      <td>MAEPRQEFEVMEDHAGTYGLGDRKDQGGYTMHQDQEGDTDAGLKES...</td>\n",
       "    </tr>\n",
       "    <tr>\n",
       "      <th>6</th>\n",
       "      <td>P10636-?</td>\n",
       "      <td>NaN</td>\n",
       "      <td>TAU_HUMAN 0N4R</td>\n",
       "      <td>NaN</td>\n",
       "    </tr>\n",
       "    <tr>\n",
       "      <th>7</th>\n",
       "      <td>P10636-?</td>\n",
       "      <td>NaN</td>\n",
       "      <td>TAU_HUMAN 1N4R</td>\n",
       "      <td>NaN</td>\n",
       "    </tr>\n",
       "    <tr>\n",
       "      <th>8</th>\n",
       "      <td>P10636-8</td>\n",
       "      <td>NaN</td>\n",
       "      <td>TAU_HUMAN 2N4R</td>\n",
       "      <td>MAEPRQEFEVMEDHAGTYGLGDRKDQGGYTMHQDQEGDTDAGLKES...</td>\n",
       "    </tr>\n",
       "    <tr>\n",
       "      <th>9</th>\n",
       "      <td>P05067</td>\n",
       "      <td>672-713</td>\n",
       "      <td>Abeta42</td>\n",
       "      <td>DAEFRHDSGYEVHHQKLVFFAEDVGSNKGAIIGLMVGGVVIA</td>\n",
       "    </tr>\n",
       "    <tr>\n",
       "      <th>10</th>\n",
       "      <td>P05067</td>\n",
       "      <td>672-711</td>\n",
       "      <td>Abeta40</td>\n",
       "      <td>DAEFRHDSGYEVHHQKLVFFAEDVGSNKGAIIGLMVGGVV</td>\n",
       "    </tr>\n",
       "    <tr>\n",
       "      <th>11</th>\n",
       "      <td>Q13148</td>\n",
       "      <td>NaN</td>\n",
       "      <td>TADBP_HUMAN TDP43</td>\n",
       "      <td>MSEYIRVTEDENDEPIEIPSEDDGTVLLSTVTAQFPGACGLRYRNP...</td>\n",
       "    </tr>\n",
       "    <tr>\n",
       "      <th>12</th>\n",
       "      <td>P04156</td>\n",
       "      <td>NaN</td>\n",
       "      <td>PRIO_HUMAN</td>\n",
       "      <td>MANLGCWMLVLFVATWSDLGLCKKRPKPGGWNTGGSRYPGQGSPGG...</td>\n",
       "    </tr>\n",
       "  </tbody>\n",
       "</table>\n",
       "</div>"
      ],
      "text/plain": [
       "          AC fragment               name  \\\n",
       "0     P37840      NaN         SYUA_HUMAN   \n",
       "1     Q16143      NaN         SYUB_HUMAN   \n",
       "2     O76070      NaN         SYUG_HUMAN   \n",
       "3   P10636-?      NaN     TAU_HUMAN 0N3R   \n",
       "4   P10636-?      NaN     TAU_HUMAN 1N3R   \n",
       "5   P10636-?      NaN     TAU_HUMAN 2N3R   \n",
       "6   P10636-?      NaN     TAU_HUMAN 0N4R   \n",
       "7   P10636-?      NaN     TAU_HUMAN 1N4R   \n",
       "8   P10636-8      NaN     TAU_HUMAN 2N4R   \n",
       "9     P05067  672-713            Abeta42   \n",
       "10    P05067  672-711            Abeta40   \n",
       "11    Q13148      NaN  TADBP_HUMAN TDP43   \n",
       "12    P04156      NaN         PRIO_HUMAN   \n",
       "\n",
       "                                             sequence  \n",
       "0   MDVFMKGLSKAKEGVVAAAEKTKQGVAEAAGKTKEGVLYVGSKTKE...  \n",
       "1   MDVFMKGLSMAKEGVVAAAEKTKQGVTEAAEKTKEGVLYVGSKTRE...  \n",
       "2   MDVFKKGFSIAKEGVVGAVEKTKQGVTEAAEKTKEGVMYVGAKTKE...  \n",
       "3                                                 NaN  \n",
       "4                                                 NaN  \n",
       "5   MAEPRQEFEVMEDHAGTYGLGDRKDQGGYTMHQDQEGDTDAGLKES...  \n",
       "6                                                 NaN  \n",
       "7                                                 NaN  \n",
       "8   MAEPRQEFEVMEDHAGTYGLGDRKDQGGYTMHQDQEGDTDAGLKES...  \n",
       "9          DAEFRHDSGYEVHHQKLVFFAEDVGSNKGAIIGLMVGGVVIA  \n",
       "10           DAEFRHDSGYEVHHQKLVFFAEDVGSNKGAIIGLMVGGVV  \n",
       "11  MSEYIRVTEDENDEPIEIPSEDDGTVLLSTVTAQFPGACGLRYRNP...  \n",
       "12  MANLGCWMLVLFVATWSDLGLCKKRPKPGGWNTGGSRYPGQGSPGG...  "
      ]
     },
     "execution_count": 2,
     "metadata": {},
     "output_type": "execute_result"
    }
   ],
   "source": [
    "prots = read_seqs.read_protein_sequences_csv()\n",
    "prots.head(15)"
   ]
  },
  {
   "cell_type": "code",
   "execution_count": 3,
   "id": "511cac34",
   "metadata": {},
   "outputs": [
    {
     "data": {
      "text/plain": [
       "Index(['AC', 'fragment', 'name', 'sequence'], dtype='object')"
      ]
     },
     "execution_count": 3,
     "metadata": {},
     "output_type": "execute_result"
    }
   ],
   "source": [
    "prots.columns"
   ]
  },
  {
   "cell_type": "code",
   "execution_count": 18,
   "id": "c6b3502c",
   "metadata": {},
   "outputs": [
    {
     "data": {
      "text/plain": [
       "'MANLGCWMLVLFVATWSDLGLCKKRPKPGGWNTGGSRYPGQGSPGGNRYPPQGGGGWGQPHGGGWGQPHGGGWGQPHGGGWGQPHGGGWGQGGGTHSQWNKPSKPKTNMKHMAGAAAAGAVVGGLGGYMLGSAMSRPIIHFGSDYEDRYYRENMHRYPNQVYYRPMDEYSNQNNFVHDCVNITIKQHTVTTTTKGENFTETDVKMMERVVEQMCITQYERESQAYYQRGSSMVLFSSPPVILLISFLIFLIVG'"
      ]
     },
     "execution_count": 18,
     "metadata": {},
     "output_type": "execute_result"
    }
   ],
   "source": [
    "prp = prots.loc[(prots.name == 'PRIO_HUMAN')].iloc[0]['sequence']\n",
    "prp"
   ]
  },
  {
   "cell_type": "code",
   "execution_count": null,
   "id": "5a4d86ed",
   "metadata": {},
   "outputs": [],
   "source": []
  },
  {
   "cell_type": "code",
   "execution_count": null,
   "id": "018d65f7",
   "metadata": {},
   "outputs": [],
   "source": []
  }
 ],
 "metadata": {
  "kernelspec": {
   "name": "python3",
   "language": "python",
   "display_name": "Python 3"
  },
  "language_info": {
   "codemirror_mode": {
    "name": "ipython",
    "version": 3
   },
   "file_extension": ".py",
   "mimetype": "text/x-python",
   "name": "python",
   "nbconvert_exporter": "python",
   "pygments_lexer": "ipython3",
   "version": "3.8.7"
  }
 },
 "nbformat": 4,
 "nbformat_minor": 5
}